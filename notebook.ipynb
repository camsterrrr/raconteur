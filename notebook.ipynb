{
 "cells": [
  {
   "cell_type": "code",
   "execution_count": 21,
   "id": "589ea92f",
   "metadata": {},
   "outputs": [
    {
     "name": "stdout",
     "output_type": "stream",
     "text": [
      "209\n",
      "0       None\n",
      "1         py\n",
      "2       None\n",
      "3        cmd\n",
      "4       None\n",
      "        ... \n",
      "1721     cmd\n",
      "1722    None\n",
      "1723    None\n",
      "1724    None\n",
      "1725    None\n",
      "Name: ProgrammingLanguage, Length: 1726, dtype: object\n"
     ]
    }
   ],
   "source": [
    "import numpy as np\n",
    "import pandas as pd\n",
    "\n",
    "df1 = pd.read_json(\"./parquet/backup/atomic-red-team.json\")\n",
    "df2 = pd.read_json(\"./parquet/atomic-red-team.json\")\n",
    "\n",
    "result = df1[\"ProgrammingLanguage\"] == df2[\"ProgrammingLanguage\"]\n",
    "print(result.sum())\n",
    "print((df2[\"ProgrammingLanguage\"]))# == np.NaN))\n",
    "\n",
    "# df1[\"ProgrammingLanguage\"].unique()\n",
    "\n",
    "# df2[\"ProgrammingLanguage\"].unique()"
   ]
  }
 ],
 "metadata": {
  "kernelspec": {
   "display_name": "base",
   "language": "python",
   "name": "python3"
  },
  "language_info": {
   "codemirror_mode": {
    "name": "ipython",
    "version": 3
   },
   "file_extension": ".py",
   "mimetype": "text/x-python",
   "name": "python",
   "nbconvert_exporter": "python",
   "pygments_lexer": "ipython3",
   "version": "3.11.5"
  }
 },
 "nbformat": 4,
 "nbformat_minor": 5
}
